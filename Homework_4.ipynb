{
 "cells": [
  {
   "cell_type": "code",
   "execution_count": 1,
   "metadata": {
    "collapsed": true
   },
   "outputs": [],
   "source": [
    "import numpy as np\n",
    "import pandas as pd \n",
    "import statsmodels.api as sm\n",
    "import statsmodels.formula.api as smf\n",
    "import seaborn as sns\n",
    "from sklearn.preprocessing import scale \n",
    "from sklearn.model_selection import train_test_split, GridSearchCV, cross_val_score\n",
    "from sklearn.metrics import confusion_matrix, accuracy_score, classification_report\n",
    "from sklearn.metrics import roc_auc_score,roc_curve\n",
    "import statsmodels.formula.api as smf\n",
    "import matplotlib.pyplot as plt\n",
    "from sklearn.neighbors import KNeighborsClassifier\n",
    "from sklearn.discriminant_analysis import LinearDiscriminantAnalysis\n",
    "from sklearn.linear_model import LogisticRegression\n",
    "from sklearn.svm import SVC\n",
    "from sklearn.naive_bayes import GaussianNB\n",
    "from sklearn import tree\n",
    "from sklearn.ensemble import RandomForestClassifier\n",
    "from sklearn.ensemble import GradientBoostingClassifier\n",
    "from xgboost import XGBClassifier\n",
    "from lightgbm import LGBMClassifier\n",
    "from catboost import CatBoostClassifier"
   ]
  },
  {
   "cell_type": "code",
   "execution_count": 2,
   "metadata": {},
   "outputs": [
    {
     "data": {
      "text/html": [
       "<div>\n",
       "<style scoped>\n",
       "    .dataframe tbody tr th:only-of-type {\n",
       "        vertical-align: middle;\n",
       "    }\n",
       "\n",
       "    .dataframe tbody tr th {\n",
       "        vertical-align: top;\n",
       "    }\n",
       "\n",
       "    .dataframe thead th {\n",
       "        text-align: right;\n",
       "    }\n",
       "</style>\n",
       "<table border=\"1\" class=\"dataframe\">\n",
       "  <thead>\n",
       "    <tr style=\"text-align: right;\">\n",
       "      <th></th>\n",
       "      <th>bad</th>\n",
       "      <th>loan</th>\n",
       "      <th>mortdue</th>\n",
       "      <th>value</th>\n",
       "      <th>reason</th>\n",
       "      <th>job</th>\n",
       "      <th>yoj</th>\n",
       "      <th>derog</th>\n",
       "      <th>delinq</th>\n",
       "      <th>clage</th>\n",
       "      <th>ninq</th>\n",
       "      <th>clno</th>\n",
       "      <th>debtinc</th>\n",
       "    </tr>\n",
       "  </thead>\n",
       "  <tbody>\n",
       "    <tr>\n",
       "      <td>0</td>\n",
       "      <td>0</td>\n",
       "      <td>81200</td>\n",
       "      <td>18834.0</td>\n",
       "      <td>108355.0</td>\n",
       "      <td>HomeImp</td>\n",
       "      <td>NaN</td>\n",
       "      <td>28.0</td>\n",
       "      <td>0.0</td>\n",
       "      <td>0.0</td>\n",
       "      <td>139.14</td>\n",
       "      <td>0.0</td>\n",
       "      <td>14.0</td>\n",
       "      <td>34.042</td>\n",
       "    </tr>\n",
       "    <tr>\n",
       "      <td>1</td>\n",
       "      <td>0</td>\n",
       "      <td>12600</td>\n",
       "      <td>103960.0</td>\n",
       "      <td>127384.0</td>\n",
       "      <td>DebtCon</td>\n",
       "      <td>NaN</td>\n",
       "      <td>2.0</td>\n",
       "      <td>0.0</td>\n",
       "      <td>0.0</td>\n",
       "      <td>129.02</td>\n",
       "      <td>0.0</td>\n",
       "      <td>25.0</td>\n",
       "      <td>34.479</td>\n",
       "    </tr>\n",
       "    <tr>\n",
       "      <td>2</td>\n",
       "      <td>0</td>\n",
       "      <td>18000</td>\n",
       "      <td>46865.0</td>\n",
       "      <td>61266.0</td>\n",
       "      <td>DebtCon</td>\n",
       "      <td>NaN</td>\n",
       "      <td>5.0</td>\n",
       "      <td>0.0</td>\n",
       "      <td>0.0</td>\n",
       "      <td>102.59</td>\n",
       "      <td>2.0</td>\n",
       "      <td>9.0</td>\n",
       "      <td>26.354</td>\n",
       "    </tr>\n",
       "    <tr>\n",
       "      <td>3</td>\n",
       "      <td>0</td>\n",
       "      <td>10300</td>\n",
       "      <td>57676.0</td>\n",
       "      <td>71027.0</td>\n",
       "      <td>DebtCon</td>\n",
       "      <td>NaN</td>\n",
       "      <td>19.0</td>\n",
       "      <td>0.0</td>\n",
       "      <td>0.0</td>\n",
       "      <td>157.52</td>\n",
       "      <td>1.0</td>\n",
       "      <td>11.0</td>\n",
       "      <td>33.992</td>\n",
       "    </tr>\n",
       "    <tr>\n",
       "      <td>4</td>\n",
       "      <td>0</td>\n",
       "      <td>9400</td>\n",
       "      <td>56508.0</td>\n",
       "      <td>78358.0</td>\n",
       "      <td>DebtCon</td>\n",
       "      <td>NaN</td>\n",
       "      <td>17.0</td>\n",
       "      <td>0.0</td>\n",
       "      <td>0.0</td>\n",
       "      <td>141.93</td>\n",
       "      <td>0.0</td>\n",
       "      <td>11.0</td>\n",
       "      <td>32.327</td>\n",
       "    </tr>\n",
       "  </tbody>\n",
       "</table>\n",
       "</div>"
      ],
      "text/plain": [
       "   bad   loan   mortdue     value   reason  job   yoj  derog  delinq   clage  \\\n",
       "0    0  81200   18834.0  108355.0  HomeImp  NaN  28.0    0.0     0.0  139.14   \n",
       "1    0  12600  103960.0  127384.0  DebtCon  NaN   2.0    0.0     0.0  129.02   \n",
       "2    0  18000   46865.0   61266.0  DebtCon  NaN   5.0    0.0     0.0  102.59   \n",
       "3    0  10300   57676.0   71027.0  DebtCon  NaN  19.0    0.0     0.0  157.52   \n",
       "4    0   9400   56508.0   78358.0  DebtCon  NaN  17.0    0.0     0.0  141.93   \n",
       "\n",
       "   ninq  clno  debtinc  \n",
       "0   0.0  14.0   34.042  \n",
       "1   0.0  25.0   34.479  \n",
       "2   2.0   9.0   26.354  \n",
       "3   1.0  11.0   33.992  \n",
       "4   0.0  11.0   32.327  "
      ]
     },
     "execution_count": 2,
     "metadata": {},
     "output_type": "execute_result"
    }
   ],
   "source": [
    "import pandas as pd\n",
    "bank = pd.read_csv(\"hmelq.csv\")\n",
    "df_bank = bank.copy()\n",
    "df_bank.head()"
   ]
  },
  {
   "cell_type": "code",
   "execution_count": 3,
   "metadata": {},
   "outputs": [
    {
     "name": "stdout",
     "output_type": "stream",
     "text": [
      "<class 'pandas.core.frame.DataFrame'>\n",
      "RangeIndex: 3576 entries, 0 to 3575\n",
      "Data columns (total 13 columns):\n",
      "bad        3576 non-null int64\n",
      "loan       3576 non-null int64\n",
      "mortdue    3262 non-null float64\n",
      "value      3512 non-null float64\n",
      "reason     3429 non-null object\n",
      "job        3409 non-null object\n",
      "yoj        3264 non-null float64\n",
      "derog      3149 non-null float64\n",
      "delinq     3225 non-null float64\n",
      "clage      3397 non-null float64\n",
      "ninq       3273 non-null float64\n",
      "clno       3443 non-null float64\n",
      "debtinc    2809 non-null float64\n",
      "dtypes: float64(9), int64(2), object(2)\n",
      "memory usage: 363.3+ KB\n"
     ]
    }
   ],
   "source": [
    "df_bank.info()"
   ]
  },
  {
   "cell_type": "code",
   "execution_count": 4,
   "metadata": {},
   "outputs": [
    {
     "data": {
      "text/plain": [
       "False"
      ]
     },
     "execution_count": 4,
     "metadata": {},
     "output_type": "execute_result"
    }
   ],
   "source": [
    "df_bank = df_bank.dropna()\n",
    "df_bank.isnull().values.any()"
   ]
  },
  {
   "cell_type": "code",
   "execution_count": 5,
   "metadata": {},
   "outputs": [
    {
     "data": {
      "text/html": [
       "<div>\n",
       "<style scoped>\n",
       "    .dataframe tbody tr th:only-of-type {\n",
       "        vertical-align: middle;\n",
       "    }\n",
       "\n",
       "    .dataframe tbody tr th {\n",
       "        vertical-align: top;\n",
       "    }\n",
       "\n",
       "    .dataframe thead th {\n",
       "        text-align: right;\n",
       "    }\n",
       "</style>\n",
       "<table border=\"1\" class=\"dataframe\">\n",
       "  <thead>\n",
       "    <tr style=\"text-align: right;\">\n",
       "      <th></th>\n",
       "      <th>loan</th>\n",
       "      <th>mortdue</th>\n",
       "      <th>value</th>\n",
       "      <th>yoj</th>\n",
       "      <th>derog</th>\n",
       "      <th>delinq</th>\n",
       "      <th>clage</th>\n",
       "      <th>ninq</th>\n",
       "      <th>clno</th>\n",
       "      <th>debtinc</th>\n",
       "      <th>job_Mgr</th>\n",
       "      <th>reason_DebtCon</th>\n",
       "      <th>job_Office</th>\n",
       "      <th>job_ProfEx</th>\n",
       "      <th>job_Sales</th>\n",
       "      <th>job_Self</th>\n",
       "      <th>bad</th>\n",
       "    </tr>\n",
       "  </thead>\n",
       "  <tbody>\n",
       "    <tr>\n",
       "      <td>153</td>\n",
       "      <td>18200.0</td>\n",
       "      <td>94727.0</td>\n",
       "      <td>136877.0</td>\n",
       "      <td>15.0</td>\n",
       "      <td>0.0</td>\n",
       "      <td>0.0</td>\n",
       "      <td>168.96</td>\n",
       "      <td>2.0</td>\n",
       "      <td>26.0</td>\n",
       "      <td>36.056</td>\n",
       "      <td>1</td>\n",
       "      <td>1</td>\n",
       "      <td>0</td>\n",
       "      <td>0</td>\n",
       "      <td>0</td>\n",
       "      <td>0</td>\n",
       "      <td>0</td>\n",
       "    </tr>\n",
       "    <tr>\n",
       "      <td>154</td>\n",
       "      <td>21700.0</td>\n",
       "      <td>79240.0</td>\n",
       "      <td>96784.0</td>\n",
       "      <td>5.0</td>\n",
       "      <td>0.0</td>\n",
       "      <td>0.0</td>\n",
       "      <td>64.51</td>\n",
       "      <td>6.0</td>\n",
       "      <td>24.0</td>\n",
       "      <td>38.079</td>\n",
       "      <td>1</td>\n",
       "      <td>1</td>\n",
       "      <td>0</td>\n",
       "      <td>0</td>\n",
       "      <td>0</td>\n",
       "      <td>0</td>\n",
       "      <td>0</td>\n",
       "    </tr>\n",
       "    <tr>\n",
       "      <td>155</td>\n",
       "      <td>34100.0</td>\n",
       "      <td>241931.0</td>\n",
       "      <td>36486.0</td>\n",
       "      <td>1.0</td>\n",
       "      <td>0.0</td>\n",
       "      <td>2.0</td>\n",
       "      <td>196.01</td>\n",
       "      <td>3.0</td>\n",
       "      <td>50.0</td>\n",
       "      <td>42.459</td>\n",
       "      <td>1</td>\n",
       "      <td>1</td>\n",
       "      <td>0</td>\n",
       "      <td>0</td>\n",
       "      <td>0</td>\n",
       "      <td>0</td>\n",
       "      <td>0</td>\n",
       "    </tr>\n",
       "    <tr>\n",
       "      <td>156</td>\n",
       "      <td>8400.0</td>\n",
       "      <td>62989.0</td>\n",
       "      <td>76718.0</td>\n",
       "      <td>3.0</td>\n",
       "      <td>0.0</td>\n",
       "      <td>2.0</td>\n",
       "      <td>131.47</td>\n",
       "      <td>0.0</td>\n",
       "      <td>22.0</td>\n",
       "      <td>29.200</td>\n",
       "      <td>1</td>\n",
       "      <td>0</td>\n",
       "      <td>0</td>\n",
       "      <td>0</td>\n",
       "      <td>0</td>\n",
       "      <td>0</td>\n",
       "      <td>0</td>\n",
       "    </tr>\n",
       "    <tr>\n",
       "      <td>157</td>\n",
       "      <td>17400.0</td>\n",
       "      <td>25859.0</td>\n",
       "      <td>43684.0</td>\n",
       "      <td>16.0</td>\n",
       "      <td>1.0</td>\n",
       "      <td>0.0</td>\n",
       "      <td>95.36</td>\n",
       "      <td>1.0</td>\n",
       "      <td>17.0</td>\n",
       "      <td>27.108</td>\n",
       "      <td>1</td>\n",
       "      <td>1</td>\n",
       "      <td>0</td>\n",
       "      <td>0</td>\n",
       "      <td>0</td>\n",
       "      <td>0</td>\n",
       "      <td>0</td>\n",
       "    </tr>\n",
       "    <tr>\n",
       "      <td>...</td>\n",
       "      <td>...</td>\n",
       "      <td>...</td>\n",
       "      <td>...</td>\n",
       "      <td>...</td>\n",
       "      <td>...</td>\n",
       "      <td>...</td>\n",
       "      <td>...</td>\n",
       "      <td>...</td>\n",
       "      <td>...</td>\n",
       "      <td>...</td>\n",
       "      <td>...</td>\n",
       "      <td>...</td>\n",
       "      <td>...</td>\n",
       "      <td>...</td>\n",
       "      <td>...</td>\n",
       "      <td>...</td>\n",
       "      <td>...</td>\n",
       "    </tr>\n",
       "    <tr>\n",
       "      <td>3544</td>\n",
       "      <td>7200.0</td>\n",
       "      <td>15637.0</td>\n",
       "      <td>39660.0</td>\n",
       "      <td>6.0</td>\n",
       "      <td>0.0</td>\n",
       "      <td>1.0</td>\n",
       "      <td>354.24</td>\n",
       "      <td>3.0</td>\n",
       "      <td>42.0</td>\n",
       "      <td>33.624</td>\n",
       "      <td>0</td>\n",
       "      <td>0</td>\n",
       "      <td>0</td>\n",
       "      <td>0</td>\n",
       "      <td>0</td>\n",
       "      <td>1</td>\n",
       "      <td>1</td>\n",
       "    </tr>\n",
       "    <tr>\n",
       "      <td>3546</td>\n",
       "      <td>53400.0</td>\n",
       "      <td>228236.0</td>\n",
       "      <td>305514.0</td>\n",
       "      <td>6.0</td>\n",
       "      <td>0.0</td>\n",
       "      <td>0.0</td>\n",
       "      <td>11.15</td>\n",
       "      <td>0.0</td>\n",
       "      <td>2.0</td>\n",
       "      <td>34.558</td>\n",
       "      <td>0</td>\n",
       "      <td>0</td>\n",
       "      <td>0</td>\n",
       "      <td>0</td>\n",
       "      <td>0</td>\n",
       "      <td>1</td>\n",
       "      <td>1</td>\n",
       "    </tr>\n",
       "    <tr>\n",
       "      <td>3547</td>\n",
       "      <td>27300.0</td>\n",
       "      <td>106221.0</td>\n",
       "      <td>137727.0</td>\n",
       "      <td>3.0</td>\n",
       "      <td>0.0</td>\n",
       "      <td>0.0</td>\n",
       "      <td>300.57</td>\n",
       "      <td>3.0</td>\n",
       "      <td>45.0</td>\n",
       "      <td>32.560</td>\n",
       "      <td>0</td>\n",
       "      <td>1</td>\n",
       "      <td>0</td>\n",
       "      <td>0</td>\n",
       "      <td>0</td>\n",
       "      <td>1</td>\n",
       "      <td>1</td>\n",
       "    </tr>\n",
       "    <tr>\n",
       "      <td>3548</td>\n",
       "      <td>37300.0</td>\n",
       "      <td>68789.0</td>\n",
       "      <td>86172.0</td>\n",
       "      <td>2.0</td>\n",
       "      <td>0.0</td>\n",
       "      <td>6.0</td>\n",
       "      <td>235.64</td>\n",
       "      <td>2.0</td>\n",
       "      <td>25.0</td>\n",
       "      <td>114.051</td>\n",
       "      <td>0</td>\n",
       "      <td>0</td>\n",
       "      <td>0</td>\n",
       "      <td>0</td>\n",
       "      <td>0</td>\n",
       "      <td>1</td>\n",
       "      <td>1</td>\n",
       "    </tr>\n",
       "    <tr>\n",
       "      <td>3549</td>\n",
       "      <td>13300.0</td>\n",
       "      <td>25698.0</td>\n",
       "      <td>58760.0</td>\n",
       "      <td>15.0</td>\n",
       "      <td>0.0</td>\n",
       "      <td>0.0</td>\n",
       "      <td>147.91</td>\n",
       "      <td>1.0</td>\n",
       "      <td>10.0</td>\n",
       "      <td>30.962</td>\n",
       "      <td>0</td>\n",
       "      <td>0</td>\n",
       "      <td>0</td>\n",
       "      <td>0</td>\n",
       "      <td>0</td>\n",
       "      <td>1</td>\n",
       "      <td>1</td>\n",
       "    </tr>\n",
       "  </tbody>\n",
       "</table>\n",
       "<p>2018 rows × 17 columns</p>\n",
       "</div>"
      ],
      "text/plain": [
       "         loan   mortdue     value   yoj  derog  delinq   clage  ninq  clno  \\\n",
       "153   18200.0   94727.0  136877.0  15.0    0.0     0.0  168.96   2.0  26.0   \n",
       "154   21700.0   79240.0   96784.0   5.0    0.0     0.0   64.51   6.0  24.0   \n",
       "155   34100.0  241931.0   36486.0   1.0    0.0     2.0  196.01   3.0  50.0   \n",
       "156    8400.0   62989.0   76718.0   3.0    0.0     2.0  131.47   0.0  22.0   \n",
       "157   17400.0   25859.0   43684.0  16.0    1.0     0.0   95.36   1.0  17.0   \n",
       "...       ...       ...       ...   ...    ...     ...     ...   ...   ...   \n",
       "3544   7200.0   15637.0   39660.0   6.0    0.0     1.0  354.24   3.0  42.0   \n",
       "3546  53400.0  228236.0  305514.0   6.0    0.0     0.0   11.15   0.0   2.0   \n",
       "3547  27300.0  106221.0  137727.0   3.0    0.0     0.0  300.57   3.0  45.0   \n",
       "3548  37300.0   68789.0   86172.0   2.0    0.0     6.0  235.64   2.0  25.0   \n",
       "3549  13300.0   25698.0   58760.0  15.0    0.0     0.0  147.91   1.0  10.0   \n",
       "\n",
       "      debtinc  job_Mgr  reason_DebtCon  job_Office  job_ProfEx  job_Sales  \\\n",
       "153    36.056        1               1           0           0          0   \n",
       "154    38.079        1               1           0           0          0   \n",
       "155    42.459        1               1           0           0          0   \n",
       "156    29.200        1               0           0           0          0   \n",
       "157    27.108        1               1           0           0          0   \n",
       "...       ...      ...             ...         ...         ...        ...   \n",
       "3544   33.624        0               0           0           0          0   \n",
       "3546   34.558        0               0           0           0          0   \n",
       "3547   32.560        0               1           0           0          0   \n",
       "3548  114.051        0               0           0           0          0   \n",
       "3549   30.962        0               0           0           0          0   \n",
       "\n",
       "      job_Self  bad  \n",
       "153          0    0  \n",
       "154          0    0  \n",
       "155          0    0  \n",
       "156          0    0  \n",
       "157          0    0  \n",
       "...        ...  ...  \n",
       "3544         1    1  \n",
       "3546         1    1  \n",
       "3547         1    1  \n",
       "3548         1    1  \n",
       "3549         1    1  \n",
       "\n",
       "[2018 rows x 17 columns]"
      ]
     },
     "execution_count": 5,
     "metadata": {},
     "output_type": "execute_result"
    }
   ],
   "source": [
    "df = df_bank.copy()\n",
    "dms = pd.get_dummies(df_bank[['reason','job']])\n",
    "dms.head()\n",
    "X_ = df_bank.drop(['bad','reason','job'], axis=1).astype('float64')\n",
    "X_.head()\n",
    "X = pd.concat([X_, dms[['job_Mgr','reason_DebtCon','job_Office','job_ProfEx','job_Sales','job_Self']]], axis=1)\n",
    "X = pd.concat([X, df[['bad']]], axis=1)\n",
    "df_bank = X.copy()\n",
    "df_bank"
   ]
  },
  {
   "cell_type": "code",
   "execution_count": 6,
   "metadata": {},
   "outputs": [
    {
     "data": {
      "text/plain": [
       "0    1840\n",
       "1     178\n",
       "Name: bad, dtype: int64"
      ]
     },
     "execution_count": 6,
     "metadata": {},
     "output_type": "execute_result"
    }
   ],
   "source": [
    "df_bank['bad'].value_counts()\n",
    "# target değişken nasıl dağılıyor"
   ]
  },
  {
   "cell_type": "code",
   "execution_count": 7,
   "metadata": {},
   "outputs": [
    {
     "data": {
      "image/png": "[encoded data removed]",
      "text/plain": [
       "<matplotlib.figure.Figure at 0x1e80f1169e8>"
      ]
     },
     "metadata": {},
     "output_type": "display_data"
    }
   ],
   "source": [
    "df_bank['bad'].value_counts().plot.barh() # h yan döndürdü\n",
    "plt.show()"
   ]
  },
  {
   "cell_type": "code",
   "execution_count": 8,
   "metadata": {
    "collapsed": true
   },
   "outputs": [],
   "source": [
    "y = df_bank['bad']\n",
    "X = df_bank.drop(['bad'], axis = 1)"
   ]
  },
  {
   "cell_type": "code",
   "execution_count": 9,
   "metadata": {},
   "outputs": [
    {
     "name": "stdout",
     "output_type": "stream",
     "text": [
      "Optimization terminated successfully.\n",
      "         Current function value: 0.255671\n",
      "         Iterations 7\n"
     ]
    },
    {
     "data": {
      "text/html": [
       "<table class=\"simpletable\">\n",
       "<caption>Logit Regression Results</caption>\n",
       "<tr>\n",
       "  <th>Dep. Variable:</th>          <td>bad</td>       <th>  No. Observations:  </th>  <td>  2018</td>  \n",
       "</tr>\n",
       "<tr>\n",
       "  <th>Model:</th>                 <td>Logit</td>      <th>  Df Residuals:      </th>  <td>  2002</td>  \n",
       "</tr>\n",
       "<tr>\n",
       "  <th>Method:</th>                 <td>MLE</td>       <th>  Df Model:          </th>  <td>    15</td>  \n",
       "</tr>\n",
       "<tr>\n",
       "  <th>Date:</th>            <td>Sat, 21 Sep 2019</td> <th>  Pseudo R-squ.:     </th>  <td>0.1431</td>  \n",
       "</tr>\n",
       "<tr>\n",
       "  <th>Time:</th>                <td>11:10:01</td>     <th>  Log-Likelihood:    </th> <td> -515.94</td> \n",
       "</tr>\n",
       "<tr>\n",
       "  <th>converged:</th>             <td>True</td>       <th>  LL-Null:           </th> <td> -602.11</td> \n",
       "</tr>\n",
       "<tr>\n",
       "  <th>Covariance Type:</th>     <td>nonrobust</td>    <th>  LLR p-value:       </th> <td>8.341e-29</td>\n",
       "</tr>\n",
       "</table>\n",
       "<table class=\"simpletable\">\n",
       "<tr>\n",
       "         <td></td>           <th>coef</th>     <th>std err</th>      <th>z</th>      <th>P>|z|</th>  <th>[0.025</th>    <th>0.975]</th>  \n",
       "</tr>\n",
       "<tr>\n",
       "  <th>loan</th>           <td>-1.932e-05</td> <td> 1.04e-05</td> <td>   -1.861</td> <td> 0.063</td> <td>-3.97e-05</td> <td> 1.02e-06</td>\n",
       "</tr>\n",
       "<tr>\n",
       "  <th>mortdue</th>        <td>-1.385e-06</td> <td> 4.94e-06</td> <td>   -0.280</td> <td> 0.779</td> <td>-1.11e-05</td> <td>  8.3e-06</td>\n",
       "</tr>\n",
       "<tr>\n",
       "  <th>value</th>          <td>-2.308e-06</td> <td> 4.18e-06</td> <td>   -0.553</td> <td> 0.580</td> <td>-1.05e-05</td> <td> 5.88e-06</td>\n",
       "</tr>\n",
       "<tr>\n",
       "  <th>yoj</th>            <td>   -0.0345</td> <td>    0.013</td> <td>   -2.698</td> <td> 0.007</td> <td>   -0.060</td> <td>   -0.009</td>\n",
       "</tr>\n",
       "<tr>\n",
       "  <th>derog</th>          <td>    0.5416</td> <td>    0.126</td> <td>    4.314</td> <td> 0.000</td> <td>    0.296</td> <td>    0.788</td>\n",
       "</tr>\n",
       "<tr>\n",
       "  <th>delinq</th>         <td>    0.7600</td> <td>    0.088</td> <td>    8.605</td> <td> 0.000</td> <td>    0.587</td> <td>    0.933</td>\n",
       "</tr>\n",
       "<tr>\n",
       "  <th>clage</th>          <td>   -0.0083</td> <td>    0.001</td> <td>   -6.264</td> <td> 0.000</td> <td>   -0.011</td> <td>   -0.006</td>\n",
       "</tr>\n",
       "<tr>\n",
       "  <th>ninq</th>           <td>    0.0580</td> <td>    0.048</td> <td>    1.212</td> <td> 0.226</td> <td>   -0.036</td> <td>    0.152</td>\n",
       "</tr>\n",
       "<tr>\n",
       "  <th>clno</th>           <td>   -0.0413</td> <td>    0.011</td> <td>   -3.822</td> <td> 0.000</td> <td>   -0.062</td> <td>   -0.020</td>\n",
       "</tr>\n",
       "<tr>\n",
       "  <th>debtinc</th>        <td>    0.0235</td> <td>    0.007</td> <td>    3.303</td> <td> 0.001</td> <td>    0.010</td> <td>    0.037</td>\n",
       "</tr>\n",
       "<tr>\n",
       "  <th>job_Mgr</th>        <td>   -0.0941</td> <td>    0.256</td> <td>   -0.367</td> <td> 0.714</td> <td>   -0.597</td> <td>    0.409</td>\n",
       "</tr>\n",
       "<tr>\n",
       "  <th>reason_DebtCon</th> <td>   -0.4757</td> <td>    0.177</td> <td>   -2.690</td> <td> 0.007</td> <td>   -0.822</td> <td>   -0.129</td>\n",
       "</tr>\n",
       "<tr>\n",
       "  <th>job_Office</th>     <td>   -0.6638</td> <td>    0.270</td> <td>   -2.459</td> <td> 0.014</td> <td>   -1.193</td> <td>   -0.135</td>\n",
       "</tr>\n",
       "<tr>\n",
       "  <th>job_ProfEx</th>     <td>   -0.2196</td> <td>    0.242</td> <td>   -0.907</td> <td> 0.364</td> <td>   -0.694</td> <td>    0.255</td>\n",
       "</tr>\n",
       "<tr>\n",
       "  <th>job_Sales</th>      <td>    1.0547</td> <td>    0.556</td> <td>    1.898</td> <td> 0.058</td> <td>   -0.035</td> <td>    2.144</td>\n",
       "</tr>\n",
       "<tr>\n",
       "  <th>job_Self</th>       <td>    0.9778</td> <td>    0.518</td> <td>    1.887</td> <td> 0.059</td> <td>   -0.038</td> <td>    1.993</td>\n",
       "</tr>\n",
       "</table>"
      ],
      "text/plain": [
       "<class 'statsmodels.iolib.summary.Summary'>\n",
       "\"\"\"\n",
       "                           Logit Regression Results                           \n",
       "==============================================================================\n",
       "Dep. Variable:                    bad   No. Observations:                 2018\n",
       "Model:                          Logit   Df Residuals:                     2002\n",
       "Method:                           MLE   Df Model:                           15\n",
       "Date:                Sat, 21 Sep 2019   Pseudo R-squ.:                  0.1431\n",
       "Time:                        11:10:01   Log-Likelihood:                -515.94\n",
       "converged:                       True   LL-Null:                       -602.11\n",
       "Covariance Type:            nonrobust   LLR p-value:                 8.341e-29\n",
       "==================================================================================\n",
       "                     coef    std err          z      P>|z|      [0.025      0.975]\n",
       "----------------------------------------------------------------------------------\n",
       "loan           -1.932e-05   1.04e-05     -1.861      0.063   -3.97e-05    1.02e-06\n",
       "mortdue        -1.385e-06   4.94e-06     -0.280      0.779   -1.11e-05     8.3e-06\n",
       "value          -2.308e-06   4.18e-06     -0.553      0.580   -1.05e-05    5.88e-06\n",
       "yoj               -0.0345      0.013     -2.698      0.007      -0.060      -0.009\n",
       "derog              0.5416      0.126      4.314      0.000       0.296       0.788\n",
       "delinq             0.7600      0.088      8.605      0.000       0.587       0.933\n",
       "clage             -0.0083      0.001     -6.264      0.000      -0.011      -0.006\n",
       "ninq               0.0580      0.048      1.212      0.226      -0.036       0.152\n",
       "clno              -0.0413      0.011     -3.822      0.000      -0.062      -0.020\n",
       "debtinc            0.0235      0.007      3.303      0.001       0.010       0.037\n",
       "job_Mgr           -0.0941      0.256     -0.367      0.714      -0.597       0.409\n",
       "reason_DebtCon    -0.4757      0.177     -2.690      0.007      -0.822      -0.129\n",
       "job_Office        -0.6638      0.270     -2.459      0.014      -1.193      -0.135\n",
       "job_ProfEx        -0.2196      0.242     -0.907      0.364      -0.694       0.255\n",
       "job_Sales          1.0547      0.556      1.898      0.058      -0.035       2.144\n",
       "job_Self           0.9778      0.518      1.887      0.059      -0.038       1.993\n",
       "==================================================================================\n",
       "\"\"\""
      ]
     },
     "execution_count": 9,
     "metadata": {},
     "output_type": "execute_result"
    }
   ],
   "source": [
    "loj = sm.Logit(y,X) # Logistic regression\n",
    "loj_model = loj.fit() # Model kuruldu\n",
    "loj_model.summary()"
   ]
  },
  {
   "cell_type": "code",
   "execution_count": 10,
   "metadata": {
    "collapsed": true
   },
   "outputs": [],
   "source": [
    "# yoj, derog, delinq, clage,  clno, debtinc, reason_DebtCon ve job_Office değişkenleri anlamlı"
   ]
  },
  {
   "cell_type": "code",
   "execution_count": 11,
   "metadata": {},
   "outputs": [
    {
     "data": {
      "text/plain": [
       "LogisticRegression(C=1.0, class_weight=None, dual=False, fit_intercept=True,\n",
       "                   intercept_scaling=1, l1_ratio=None, max_iter=100,\n",
       "                   multi_class='warn', n_jobs=None, penalty='l2',\n",
       "                   random_state=None, solver='liblinear', tol=0.0001, verbose=0,\n",
       "                   warm_start=False)"
      ]
     },
     "execution_count": 11,
     "metadata": {},
     "output_type": "execute_result"
    }
   ],
   "source": [
    "from sklearn.linear_model import LogisticRegression\n",
    "loj = LogisticRegression(solver = \"liblinear\") #cost function var içerde y leri tahmin ederken hangisinden ne kadar ödün vericem\n",
    "                                               # gerçekten 0 olanlara ne kadar 1 dedim ya da tam tersi\n",
    "loj_model = loj.fit(X,y)\n",
    "loj_model"
   ]
  },
  {
   "cell_type": "code",
   "execution_count": 12,
   "metadata": {},
   "outputs": [
    {
     "data": {
      "text/plain": [
       "array([-0.00221863])"
      ]
     },
     "execution_count": 12,
     "metadata": {},
     "output_type": "execute_result"
    }
   ],
   "source": [
    "loj_model.intercept_ # Constant (beta0)"
   ]
  },
  {
   "cell_type": "code",
   "execution_count": 13,
   "metadata": {},
   "outputs": [
    {
     "data": {
      "text/plain": [
       "array([[-3.56681830e-05, -7.37565118e-06, -1.65614093e-06,\n",
       "        -1.61934682e-02,  5.85731999e-03,  1.04642967e-02,\n",
       "        -8.91750678e-03,  3.86857156e-03, -1.51412410e-02,\n",
       "         2.78622123e-02, -7.84042301e-06, -1.49002943e-03,\n",
       "        -1.16896011e-03, -5.94957787e-04,  3.30337914e-04,\n",
       "         4.01154983e-04]])"
      ]
     },
     "execution_count": 13,
     "metadata": {},
     "output_type": "execute_result"
    }
   ],
   "source": [
    "loj_model.coef_"
   ]
  },
  {
   "cell_type": "code",
   "execution_count": 14,
   "metadata": {},
   "outputs": [
    {
     "data": {
      "text/plain": [
       "array([0, 0, 0, ..., 0, 0, 0], dtype=int64)"
      ]
     },
     "execution_count": 14,
     "metadata": {},
     "output_type": "execute_result"
    }
   ],
   "source": [
    "y_pred = loj_model.predict(X)\n",
    "y_pred"
   ]
  },
  {
   "cell_type": "code",
   "execution_count": 15,
   "metadata": {},
   "outputs": [
    {
     "data": {
      "text/plain": [
       "array([[1835,    5],\n",
       "       [ 178,    0]], dtype=int64)"
      ]
     },
     "execution_count": 15,
     "metadata": {},
     "output_type": "execute_result"
    }
   ],
   "source": [
    "cf = confusion_matrix(y, y_pred)\n",
    "cf\n",
    "# 1840 0 var -> 2013 tahmin etmişim -> 1835 i doğru 178 i yanlış\n",
    "# 178 1 var -> 5 tahmin etmişim -> 0 si doğtu 5 si yanlış"
   ]
  },
  {
   "cell_type": "code",
   "execution_count": 16,
   "metadata": {},
   "outputs": [
    {
     "name": "stdout",
     "output_type": "stream",
     "text": [
      "              precision    recall  f1-score   support\n",
      "\n",
      "           0       0.91      1.00      0.95      1840\n",
      "           1       0.00      0.00      0.00       178\n",
      "\n",
      "    accuracy                           0.91      2018\n",
      "   macro avg       0.46      0.50      0.48      2018\n",
      "weighted avg       0.83      0.91      0.87      2018\n",
      "\n"
     ]
    }
   ],
   "source": [
    "print(classification_report(y,y_pred))"
   ]
  },
  {
   "cell_type": "code",
   "execution_count": 17,
   "metadata": {},
   "outputs": [
    {
     "data": {
      "text/plain": [
       "array([0, 0, 0, 0, 0, 0, 0, 0, 0, 0], dtype=int64)"
      ]
     },
     "execution_count": 17,
     "metadata": {},
     "output_type": "execute_result"
    }
   ],
   "source": [
    "loj_model.predict(X)[0:10]"
   ]
  },
  {
   "cell_type": "code",
   "execution_count": 42,
   "metadata": {},
   "outputs": [
    {
     "data": {
      "text/plain": [
       "array([[0.92514953, 0.07485047],\n",
       "       [0.80254493, 0.19745507],\n",
       "       [0.96300638, 0.03699362],\n",
       "       [0.83174508, 0.16825492],\n",
       "       [0.81525311, 0.18474689],\n",
       "       [0.98284698, 0.01715302],\n",
       "       [0.84196367, 0.15803633],\n",
       "       [0.95886326, 0.04113674],\n",
       "       [0.75519964, 0.24480036],\n",
       "       [0.96080894, 0.03919106]])"
      ]
     },
     "execution_count": 42,
     "metadata": {},
     "output_type": "execute_result"
    }
   ],
   "source": [
    "loj_model.predict_proba(X)[0:10] "
   ]
  },
  {
   "cell_type": "code",
   "execution_count": 19,
   "metadata": {},
   "outputs": [
    {
     "data": {
      "text/plain": [
       "153    0\n",
       "154    0\n",
       "155    0\n",
       "156    0\n",
       "157    0\n",
       "158    0\n",
       "159    0\n",
       "160    0\n",
       "161    0\n",
       "162    0\n",
       "Name: bad, dtype: int64"
      ]
     },
     "execution_count": 19,
     "metadata": {},
     "output_type": "execute_result"
    }
   ],
   "source": [
    "y[0:10]"
   ]
  },
  {
   "cell_type": "code",
   "execution_count": 20,
   "metadata": {},
   "outputs": [
    {
     "data": {
      "text/plain": [
       "array([0.06243398, 0.1887888 , 0.01248744, 0.166166  , 0.18403102,\n",
       "       0.01486474, 0.14424831, 0.03561566, 0.25138618, 0.03880015])"
      ]
     },
     "execution_count": 20,
     "metadata": {},
     "output_type": "execute_result"
    }
   ],
   "source": [
    "y_probs = loj_model.predict_proba(X)\n",
    "y_probs = y_probs[:,1]\n",
    "y_probs[0:10]"
   ]
  },
  {
   "cell_type": "code",
   "execution_count": 21,
   "metadata": {},
   "outputs": [
    {
     "data": {
      "text/plain": [
       "[0, 0, 0, 0, 0, 0, 0, 0, 0, 0]"
      ]
     },
     "execution_count": 21,
     "metadata": {},
     "output_type": "execute_result"
    }
   ],
   "source": [
    "y_pred = [1 if i>0.45 else 0 for i in y_probs]\n",
    "y_pred[0:10] #0.4 threshold ile daha iyi sonuç veriyor"
   ]
  },
  {
   "cell_type": "code",
   "execution_count": 22,
   "metadata": {},
   "outputs": [
    {
     "data": {
      "text/plain": [
       "array([[1832,    8],\n",
       "       [ 175,    3]], dtype=int64)"
      ]
     },
     "execution_count": 22,
     "metadata": {},
     "output_type": "execute_result"
    }
   ],
   "source": [
    "cf_new = confusion_matrix(y, y_pred)\n",
    "cf_new"
   ]
  },
  {
   "cell_type": "code",
   "execution_count": 23,
   "metadata": {},
   "outputs": [
    {
     "name": "stdout",
     "output_type": "stream",
     "text": [
      "              precision    recall  f1-score   support\n",
      "\n",
      "           0       0.91      1.00      0.95      1840\n",
      "           1       0.27      0.02      0.03       178\n",
      "\n",
      "    accuracy                           0.91      2018\n",
      "   macro avg       0.59      0.51      0.49      2018\n",
      "weighted avg       0.86      0.91      0.87      2018\n",
      "\n"
     ]
    }
   ],
   "source": [
    "print(classification_report(y,y_pred))"
   ]
  },
  {
   "cell_type": "code",
   "execution_count": 24,
   "metadata": {},
   "outputs": [
    {
     "data": {
      "text/plain": [
       "array([0.06243398, 0.1887888 , 0.01248744, 0.166166  , 0.18403102])"
      ]
     },
     "execution_count": 24,
     "metadata": {},
     "output_type": "execute_result"
    }
   ],
   "source": [
    "loj_model.predict_proba(X)[:,1][0:5]"
   ]
  },
  {
   "cell_type": "code",
   "execution_count": 25,
   "metadata": {},
   "outputs": [
    {
     "data": {
      "text/plain": [
       "0.4986413043478261"
      ]
     },
     "execution_count": 25,
     "metadata": {},
     "output_type": "execute_result"
    }
   ],
   "source": [
    "logit_roc_auc_1 = roc_auc_score(y, loj_model.predict(X))\n",
    "logit_roc_auc_1 # 0.5 threshold"
   ]
  },
  {
   "cell_type": "code",
   "execution_count": 26,
   "metadata": {},
   "outputs": [
    {
     "data": {
      "text/plain": [
       "0.5062530532486565"
      ]
     },
     "execution_count": 26,
     "metadata": {},
     "output_type": "execute_result"
    }
   ],
   "source": [
    "logit_roc_auc_2 = roc_auc_score(y, y_pred)\n",
    "logit_roc_auc_2 # 0.4 threshold"
   ]
  },
  {
   "cell_type": "code",
   "execution_count": 27,
   "metadata": {},
   "outputs": [
    {
     "name": "stdout",
     "output_type": "stream",
     "text": [
      "[0.         0.00054348 0.00271739 0.00271739 0.00380435 0.00380435\n",
      " 0.00434783 0.00434783 0.0048913  0.0048913 ]\n",
      "[0.         0.         0.         0.00561798 0.00561798 0.01685393\n",
      " 0.01685393 0.02247191 0.02247191 0.03932584]\n",
      "[1.5408853  0.5408853  0.52877008 0.49252315 0.47426989 0.46817383\n",
      " 0.46534378 0.44717334 0.43401338 0.39865319]\n"
     ]
    }
   ],
   "source": [
    "fpr, tpr, thresholds = roc_curve(y, loj_model.predict_proba(X)[:,1]) # xlerin 1 olma ihtimalini bu thresholdlara göre hesapla\n",
    "print(fpr[0:10]) # false positive rate\n",
    "print(tpr[0:10]) # true positive rate\n",
    "print(thresholds[0:10]) "
   ]
  },
  {
   "cell_type": "code",
   "execution_count": 28,
   "metadata": {},
   "outputs": [
    {
     "data": {
      "image/png": "[encoded data removed]",
      "text/plain": [
       "<matplotlib.figure.Figure at 0x1e811393198>"
      ]
     },
     "metadata": {},
     "output_type": "display_data"
    }
   ],
   "source": [
    "plt.figure()\n",
    "plt.plot(fpr, tpr, label = 'AUC(area=%0.2f)' %logit_roc_auc_1)\n",
    "plt.plot([0,1],[0,1],'r--')\n",
    "plt.xlim([0.0,1.0])\n",
    "plt.ylim([0.0,1.05])\n",
    "plt.xlabel('False positive oranı')\n",
    "plt.xlabel('True positive oranı')\n",
    "plt.title(\"ROC\")\n",
    "plt.show()"
   ]
  },
  {
   "cell_type": "code",
   "execution_count": 29,
   "metadata": {},
   "outputs": [
    {
     "data": {
      "image/png": "[encoded data removed]",
      "text/plain": [
       "<matplotlib.figure.Figure at 0x1e8113a8e10>"
      ]
     },
     "metadata": {},
     "output_type": "display_data"
    }
   ],
   "source": [
    "plt.figure()\n",
    "plt.plot(fpr, tpr, label = 'AUC(area=%0.2f)' %logit_roc_auc_2)\n",
    "plt.plot([0,1],[0,1],'r--')\n",
    "plt.xlim([0.0,1.0])\n",
    "plt.ylim([0.0,1.05])\n",
    "plt.xlabel('False positive oranı')\n",
    "plt.xlabel('True positive oranı')\n",
    "plt.title(\"ROC\")\n",
    "plt.show()"
   ]
  },
  {
   "cell_type": "code",
   "execution_count": 76,
   "metadata": {
    "collapsed": true
   },
   "outputs": [],
   "source": [
    "X_train, X_test, y_train, y_test = train_test_split(X,y,test_size= 0.10, random_state=42)"
   ]
  },
  {
   "cell_type": "code",
   "execution_count": 77,
   "metadata": {},
   "outputs": [
    {
     "data": {
      "text/plain": [
       "LogisticRegression(C=1.0, class_weight=None, dual=False, fit_intercept=True,\n",
       "                   intercept_scaling=1, l1_ratio=None, max_iter=100,\n",
       "                   multi_class='warn', n_jobs=None, penalty='l2',\n",
       "                   random_state=None, solver='liblinear', tol=0.0001, verbose=0,\n",
       "                   warm_start=False)"
      ]
     },
     "execution_count": 77,
     "metadata": {},
     "output_type": "execute_result"
    }
   ],
   "source": [
    "loj = LogisticRegression(solver = \"liblinear\")\n",
    "loj_model = loj.fit(X_train, y_train)\n",
    "loj_model"
   ]
  },
  {
   "cell_type": "code",
   "execution_count": 78,
   "metadata": {},
   "outputs": [
    {
     "data": {
      "text/plain": [
       "153    0\n",
       "154    0\n",
       "155    0\n",
       "156    0\n",
       "157    0\n",
       "158    0\n",
       "159    0\n",
       "160    0\n",
       "161    0\n",
       "162    0\n",
       "Name: bad, dtype: int64"
      ]
     },
     "execution_count": 78,
     "metadata": {},
     "output_type": "execute_result"
    }
   ],
   "source": [
    "loj_model.predict(X_test)[0:10]\n",
    "loj_model.predict_proba(X_test)[0:10] \n",
    "y[0:10]"
   ]
  },
  {
   "cell_type": "code",
   "execution_count": 79,
   "metadata": {},
   "outputs": [
    {
     "data": {
      "text/plain": [
       "array([0.05249595, 0.04909673, 0.07712179, 0.02453518, 0.169898  ,\n",
       "       0.24524828, 0.20389002, 0.04765628, 0.00483684, 0.06099617])"
      ]
     },
     "execution_count": 79,
     "metadata": {},
     "output_type": "execute_result"
    }
   ],
   "source": [
    "y_probs = loj_model.predict_proba(X_test)\n",
    "y_probs = y_probs[:,1]\n",
    "y_probs[0:10]"
   ]
  },
  {
   "cell_type": "code",
   "execution_count": 80,
   "metadata": {},
   "outputs": [
    {
     "data": {
      "text/plain": [
       "0.9108910891089109"
      ]
     },
     "execution_count": 80,
     "metadata": {},
     "output_type": "execute_result"
    }
   ],
   "source": [
    "accuracy_score(y_test, loj_model.predict(X_test))"
   ]
  },
  {
   "cell_type": "code",
   "execution_count": 81,
   "metadata": {},
   "outputs": [
    {
     "data": {
      "text/plain": [
       "0.9309022556390978"
      ]
     },
     "execution_count": 81,
     "metadata": {},
     "output_type": "execute_result"
    }
   ],
   "source": [
    "cross_val_score(loj_model, X_test, y_test,cv=10).mean()"
   ]
  },
  {
   "cell_type": "code",
   "execution_count": 82,
   "metadata": {},
   "outputs": [
    {
     "name": "stdout",
     "output_type": "stream",
     "text": [
      "              precision    recall  f1-score   support\n",
      "\n",
      "           0       0.91      1.00      0.95      1840\n",
      "           1       0.27      0.02      0.03       178\n",
      "\n",
      "    accuracy                           0.91      2018\n",
      "   macro avg       0.59      0.51      0.49      2018\n",
      "weighted avg       0.86      0.91      0.87      2018\n",
      "\n"
     ]
    }
   ],
   "source": [
    "print(classification_report(y, y_pred))"
   ]
  },
  {
   "cell_type": "code",
   "execution_count": 83,
   "metadata": {},
   "outputs": [
    {
     "data": {
      "text/plain": [
       "0.5"
      ]
     },
     "execution_count": 83,
     "metadata": {},
     "output_type": "execute_result"
    }
   ],
   "source": [
    "logit_roc_auc_3 = roc_auc_score(y_test, loj_model.predict(X_test))\n",
    "logit_roc_auc_3 # 0.5 threshold"
   ]
  },
  {
   "cell_type": "code",
   "execution_count": 84,
   "metadata": {},
   "outputs": [
    {
     "data": {
      "image/png": "[encoded data removed]",
      "text/plain": [
       "<matplotlib.figure.Figure at 0x1e812554cc0>"
      ]
     },
     "metadata": {},
     "output_type": "display_data"
    }
   ],
   "source": [
    "plt.figure()\n",
    "plt.plot(fpr, tpr, label = 'AUC(area=%0.2f)' %logit_roc_auc_3)\n",
    "plt.plot([0,1],[0,1],'r--')\n",
    "plt.xlim([0.0,1.0])\n",
    "plt.ylim([0.0,1.05])\n",
    "plt.xlabel('False positive oranı')\n",
    "plt.xlabel('True positive oranı')\n",
    "plt.title(\"ROC\")\n",
    "plt.show()"
   ]
  }
 ],
 "metadata": {
  "kernelspec": {
   "display_name": "Python 3",
   "language": "python",
   "name": "python3"
  },
  "language_info": {
   "codemirror_mode": {
    "name": "ipython",
    "version": 3
   },
   "file_extension": ".py",
   "mimetype": "text/x-python",
   "name": "python",
   "nbconvert_exporter": "python",
   "pygments_lexer": "ipython3",
   "version": "3.6.8"
  }
 },
 "nbformat": 4,
 "nbformat_minor": 2
}
